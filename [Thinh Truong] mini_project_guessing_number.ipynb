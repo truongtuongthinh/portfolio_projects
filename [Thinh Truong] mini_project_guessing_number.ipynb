{
 "cells": [
  {
   "cell_type": "markdown",
   "metadata": {},
   "source": [
    "### Trong project này, chúng ta sẽ làm 1 trò chơi nhỏ mang tên đoán số. Cụ thể, Máy tính sẽ chọn random 1 số từ 1 đến 10. \n",
    "### Chúng ta sẽ đoán máy tính chọn số bao nhiêu?\n",
    "#### - Nếu số chúng ta đoán thấp hơn máy tính thì in ra \"your guess is too low\"\n",
    "#### - Nếu số chúng ta đoán cao hơn máy tính thì in ra \"your guess is too high\"\n",
    "#### - Nếu chúng ta đoán đúng số thì in ra \"you got the right number after\" xx \"tries\" trong đó xx là số lần đoán.\n",
    "#### - Trường hợp 5 lần đoán sai thì sẽ dừng trò chơi và in ra \"Gameover!!! The number was yy\" trong đó yy là số mà máy tính chọn\n",
    "\n",
    "#### Những kiến thức cover trong project này: input(), print(), while loop, if else, break."
   ]
  },
  {
   "cell_type": "code",
   "execution_count": 1,
   "metadata": {},
   "outputs": [],
   "source": [
    "\n",
    "import numpy as np\n"
   ]
  },
  {
   "cell_type": "code",
   "execution_count": 2,
   "metadata": {},
   "outputs": [
    {
     "name": "stdout",
     "output_type": "stream",
     "text": [
      "What is your name?\n",
      "Hằng\n",
      "Hi, Hằng!\n",
      "Welcome to the guessing game!\n"
     ]
    }
   ],
   "source": [
    "# generate random number\n",
    "sol = np.random.randint(1,11) #từ 1 đến 10 thay vì từ 1 đến 11\n",
    "guess = 0\n",
    "time = 1\n",
    "\n",
    "# ask player name\n",
    "print('What is your name?')\n",
    "player = input()\n",
    "# Say hi and welcome player to the guessing game\n",
    "print('Hi, ' + player + '!')\n",
    "print('Welcome to the guessing game!')"
   ]
  },
  {
   "cell_type": "code",
   "execution_count": 3,
   "metadata": {},
   "outputs": [
    {
     "name": "stdout",
     "output_type": "stream",
     "text": [
      "What is your guess?\n",
      "12\n",
      "Your guess is too high\n",
      "What is your guess?\n",
      "5\n",
      "Your guess is too high\n",
      "What is your guess?\n",
      "2\n",
      "You got the right number after 3 tries!\n"
     ]
    }
   ],
   "source": [
    "# develop while loop\n",
    "while guess != sol and time <= 5:\n",
    "    print('What is your guess?')\n",
    "    guess = int(input())\n",
    "    if guess > sol :\n",
    "        print('Your guess is too high')\n",
    "        time = time + 1\n",
    "    elif guess < sol :\n",
    "        print('Your guess is too low')\n",
    "        time = time + 1\n",
    "    else :\n",
    "        print('You got the right number after ' + str(time) + ' tries!') #chưa cover được trường hợp đúng sau 1 lần thử thì trả về ..after 1 try\n",
    "if time > 5 :\n",
    "    print('Game over!!! The number was ' + str(sol) + '!')\n",
    "\n",
    "# guess = computer number        \n",
    "\n",
    "# guess times > 5    \n"
   ]
  },
  {
   "cell_type": "code",
   "execution_count": null,
   "metadata": {},
   "outputs": [],
   "source": []
  }
 ],
 "metadata": {
  "kernelspec": {
   "display_name": "Python 3 (ipykernel)",
   "language": "python",
   "name": "python3"
  },
  "language_info": {
   "codemirror_mode": {
    "name": "ipython",
    "version": 3
   },
   "file_extension": ".py",
   "mimetype": "text/x-python",
   "name": "python",
   "nbconvert_exporter": "python",
   "pygments_lexer": "ipython3",
   "version": "3.9.7"
  }
 },
 "nbformat": 4,
 "nbformat_minor": 2
}
