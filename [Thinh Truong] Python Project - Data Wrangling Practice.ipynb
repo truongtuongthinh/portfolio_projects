{
 "cells": [
  {
   "cell_type": "code",
   "execution_count": 1,
   "id": "292eadb2",
   "metadata": {},
   "outputs": [],
   "source": [
    "#Import necessary libraries\n",
    "import pandas as pd\n",
    "import numpy as np"
   ]
  },
  {
   "cell_type": "code",
   "execution_count": 2,
   "id": "3ad2480c",
   "metadata": {},
   "outputs": [],
   "source": [
    "#Import & transform the price data set\n",
    "    #Import & sorting\n",
    "prices = pd.read_csv('prices.csv')\n",
    "prices = prices.sort_values(['product_id', 'updated_at']).reset_index(drop=True)\n",
    "\n",
    "    #Derive effective day range of a specific price by self-joining\n",
    "prices_merge = prices.merge(prices, left_on=['product_id', 'new_price'], right_on=['product_id', 'old_price'], how='outer', suffixes = ('_beg','_end'))\n",
    "prices_merge['price'] = np.where(pd.isna(prices_merge['updated_at_beg']) == False, prices_merge['new_price_beg'], prices_merge['old_price_end'])\n",
    "prices_merge['begin'] = np.where(pd.isna(prices_merge['updated_at_beg']) == False, prices_merge['updated_at_beg'], '9/1/18 00:00')\n",
    "prices_merge['end'] = np.where(pd.isna(prices_merge['updated_at_end']) == False, prices_merge['updated_at_end'], '9/30/18 23:59')\n",
    "\n",
    "    #Clean, format, and transform datetime the observations\n",
    "prices_merge['begin'] = pd.to_datetime(prices_merge['begin'], format='%m/%d/%y %H:%M')\n",
    "prices_merge['end'] = pd.to_datetime(prices_merge['end'], format='%m/%d/%y %H:%M')\n",
    "prices_selected = prices_merge.get(['product_id', 'price', 'begin', 'end'])\n",
    "condition = (prices_merge['begin'] < prices_merge['end'])\n",
    "prices_final = prices_selected[condition].groupby(['product_id', 'price', 'begin'])['end'].min().to_frame().sort_values(['product_id','begin']).reset_index()"
   ]
  },
  {
   "cell_type": "code",
   "execution_count": 3,
   "id": "6bfa32cf",
   "metadata": {},
   "outputs": [],
   "source": [
    "#Import & join sales data set\n",
    "sales = pd.read_csv('sales.csv')\n",
    "sales_joined = sales.merge(prices_final, on='product_id', how='left')\n",
    "sales_joined['ordered_at'] = pd.to_datetime(sales_joined['ordered_at'], format='%m/%d/%y %H:%M')"
   ]
  },
  {
   "cell_type": "code",
   "execution_count": 4,
   "id": "394bac99",
   "metadata": {},
   "outputs": [],
   "source": [
    "#Filter sales_joined to identify the right price\n",
    "filter_set = (sales_joined['ordered_at'] >= sales_joined['begin']) & (sales_joined['ordered_at'] < sales_joined['end'])\n",
    "sales_filtered = sales_joined[filter_set].copy()"
   ]
  },
  {
   "cell_type": "code",
   "execution_count": 5,
   "id": "559fe473",
   "metadata": {},
   "outputs": [],
   "source": [
    "#Calculate revenue by product by price\n",
    "sales_filtered['revenue'] = sales_filtered['quantity_ordered'] * sales_filtered['price']\n",
    "revenue = sales_filtered.groupby(['product_id', 'price'])['revenue'].sum()"
   ]
  },
  {
   "cell_type": "code",
   "execution_count": 6,
   "id": "78b4b718",
   "metadata": {},
   "outputs": [
    {
     "name": "stdout",
     "output_type": "stream",
     "text": [
      "product_id  price   \n",
      "64          239000.0     956000.0\n",
      "3954203     57500.0       57500.0\n",
      "            60000.0      180000.0\n",
      "            64000.0      640000.0\n",
      "3998909     15500.0       15500.0\n",
      "            16500.0      231000.0\n",
      "            17000.0       34000.0\n",
      "4085861     52000.0     1040000.0\n",
      "            53500.0     2140000.0\n",
      "            58000.0     2204000.0\n",
      "            60000.0      180000.0\n",
      "            62500.0     1812500.0\n",
      "            67000.0      871000.0\n",
      "Name: revenue, dtype: float64\n"
     ]
    }
   ],
   "source": [
    "#Result\n",
    "print(revenue)"
   ]
  },
  {
   "cell_type": "code",
   "execution_count": null,
   "id": "9519912a",
   "metadata": {},
   "outputs": [],
   "source": []
  }
 ],
 "metadata": {
  "kernelspec": {
   "display_name": "Python 3",
   "language": "python",
   "name": "python3"
  },
  "language_info": {
   "codemirror_mode": {
    "name": "ipython",
    "version": 3
   },
   "file_extension": ".py",
   "mimetype": "text/x-python",
   "name": "python",
   "nbconvert_exporter": "python",
   "pygments_lexer": "ipython3",
   "version": "3.8.8"
  }
 },
 "nbformat": 4,
 "nbformat_minor": 5
}
