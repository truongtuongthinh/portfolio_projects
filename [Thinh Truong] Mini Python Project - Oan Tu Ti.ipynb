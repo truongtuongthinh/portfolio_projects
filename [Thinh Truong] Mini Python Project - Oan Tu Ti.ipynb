{
 "cells": [
  {
   "cell_type": "code",
   "execution_count": 1,
   "metadata": {},
   "outputs": [],
   "source": [
    "import numpy as np #bài làm đúng"
   ]
  },
  {
   "cell_type": "markdown",
   "metadata": {},
   "source": [
    "#### Trong project này chúng ta sẽ mô phỏng lại trò chơi dân gian oẳn tù tì.\n",
    "#### Cụ thể, chúng ta sẽ oẳn tù tì với máy. Máy sẽ chọn random búa, kéo, hoặc lá trong mỗi lần oẳn tù tì.\n",
    "#### Chúng ta sẽ chọn ra búa, kéo hoặc lá sau đó in ra kết quả. Trường hợp người chơi nhập sai, yêu cầu người chơi nhập lại theo đúng chính tả theo 3 sự lựa chọn búa, kéo, hoặc lá.\n",
    "#### Lưu ý, sau mỗi lượt chơi, máy sẽ random chọn lại búa kéo hoặc lá.\n",
    "\n",
    "#### Các kiến thức cover trong mini project này: Array, random, while loop, if else."
   ]
  },
  {
   "cell_type": "code",
   "execution_count": 3,
   "metadata": {},
   "outputs": [
    {
     "name": "stdout",
     "output_type": "stream",
     "text": [
      "Ban chon keo, bua hay la?\n",
      "keo\n",
      "Ban thua roi!\n",
      "Ban chon keo, bua hay la?\n",
      "la\n",
      "Ban thang roi!\n",
      "Tro choi ket thuc!\n"
     ]
    }
   ],
   "source": [
    "# tạo array búa, kéo, lá\n",
    "moves = np.array(['keo', 'bua', 'la'])\n",
    "\n",
    "# máy chọn random\n",
    "# tạo vòng lặp while để chạy chương trình\n",
    "while True:\n",
    "    pc = np.random.choice(moves)\n",
    "    print('Ban chon keo, bua hay la?') # bạn có thể sử dụng đúng định dạng tiếng Việt\n",
    "    player = input()\n",
    "    while player not in moves :\n",
    "        print('Vui long nhap \"keo\", \"bua\" hoac \"la\" de bat dau tro choi!')\n",
    "        player = input()\n",
    "    if (player == 'keo' and pc == 'bua') or (player == 'bua' and pc == 'la') or (player == 'la' and pc == 'bua'):\n",
    "        print('Ban thua roi!')\n",
    "    elif player == pc:\n",
    "        print('Ban dang hoa!')\n",
    "    else:\n",
    "        print('Ban thang roi!')\n",
    "        break\n",
    "print('Tro choi ket thuc!')"
   ]
  },
  {
   "cell_type": "code",
   "execution_count": null,
   "metadata": {},
   "outputs": [],
   "source": []
  }
 ],
 "metadata": {
  "kernelspec": {
   "display_name": "Python 3 (ipykernel)",
   "language": "python",
   "name": "python3"
  },
  "language_info": {
   "codemirror_mode": {
    "name": "ipython",
    "version": 3
   },
   "file_extension": ".py",
   "mimetype": "text/x-python",
   "name": "python",
   "nbconvert_exporter": "python",
   "pygments_lexer": "ipython3",
   "version": "3.9.7"
  }
 },
 "nbformat": 4,
 "nbformat_minor": 2
}
